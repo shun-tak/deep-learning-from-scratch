{
 "cells": [
  {
   "cell_type": "markdown",
   "metadata": {},
   "source": [
    "# 6章 学習に関するテクニック\n",
    "\n",
    "## 6.1 パラメータの更新\n",
    "\n",
    "多くの研究では今でもSGDが使われている。\n",
    "最近(2016年頃？)では、多くの研究者や技術者がAdamを好んで使っているらしい。\n",
    "\n",
    "一般にSGDよりも他の改善手法の方が速く学習でき、時には最終的な認識性能も高くなる。\n",
    "どの手法が良いかは、学習係数のハイパーパラメータやニューラルネットワークの構造によって変わる。"
   ]
  },
  {
   "cell_type": "code",
   "execution_count": 1,
   "metadata": {},
   "outputs": [
    {
     "data": {
      "image/png": "[encoded data removed]",
      "text/plain": [
       "<matplotlib.figure.Figure at 0x106924668>"
      ]
     },
     "metadata": {},
     "output_type": "display_data"
    }
   ],
   "source": [
    "import numpy as np\n",
    "import matplotlib.pyplot as plt\n",
    "from dataset.mnist import load_mnist\n",
    "from common.multi_layer_net import MultiLayerNet\n",
    "from common.optimizer import *\n",
    "from common.util import smooth_curve\n",
    "\n",
    "def get_mini_batch(x_train, t_train, batch_size):\n",
    "    train_size = x_train.shape[0]\n",
    "    batch_mask = np.random.choice(train_size, batch_size)\n",
    "    return x_train[batch_mask], t_train[batch_mask]\n",
    "\n",
    "\n",
    "# 0:MNISTデータの読み込み==========\n",
    "(x_train, t_train), (x_test, t_test) = load_mnist(normalize=True)\n",
    "batch_size = 500\n",
    "iters_num = 2000\n",
    "\n",
    "\n",
    "# 1:実験の設定==========\n",
    "optimizers = {}\n",
    "optimizers['SGD'] = SGD()\n",
    "# optimizers['Momentum'] = Momentum()\n",
    "# optimizers['AdaGrad'] = AdaGrad()\n",
    "optimizers['Adam'] = Adam()\n",
    "# optimizers['RMSprop'] = RMSprop()\n",
    "\n",
    "networks = {}\n",
    "train_loss = {}\n",
    "for key in optimizers.keys():\n",
    "    networks[key] = MultiLayerNet(input_size=784, hidden_size_list=[28, 28], output_size=10\n",
    "                            , activation='relu', weight_init_std='he', weight_decay_lambda=0)\n",
    "    train_loss[key] = []    \n",
    "\n",
    "\n",
    "# 2:訓練の開始==========\n",
    "for i in range(iters_num):\n",
    "    x_batch, t_batch = get_mini_batch(x_train, t_train, batch_size)\n",
    "    for key in optimizers.keys():\n",
    "        grads = networks[key].gradient(x_batch, t_batch)\n",
    "        optimizers[key].update(networks[key].params, grads)\n",
    "        loss = networks[key].loss(x_batch, t_batch)\n",
    "        train_loss[key].append(loss)\n",
    "\n",
    "\n",
    "# 3.グラフの描画==========\n",
    "markers = {\"SGD\": \"o\", \"Momentum\": \"^\", \"AdaGrad\": \"s\", \"Adam\": \"D\", \"RMSprop\": \"v\"}\n",
    "x = np.arange(iters_num)\n",
    "for key in optimizers.keys():\n",
    "    plt.plot(x, smooth_curve(train_loss[key]), marker=markers[key], markerfacecolor='#ffffff', markevery=iters_num // 10, label=key)\n",
    "plt.xlabel(\"iterations\")\n",
    "plt.ylabel(\"loss\")\n",
    "plt.ylim(0, 1)\n",
    "plt.legend()\n",
    "plt.show()"
   ]
  },
  {
   "cell_type": "markdown",
   "metadata": {},
   "source": [
    "## 6.2 重みの初期値\n",
    "\n",
    "重みの初期値が均一だと、誤差逆伝播法において、全ての重みの値が均一に更新されてしまう。\n",
    "そのためランダムな初期値を重みに設定する。\n",
    "\n",
    "重みにランダムな初期値を設定したネットワークでsigmoid関数の出力を観察する。\n",
    "ヒストグラムを見ると偏りがあり、勾配消失や表現力の制限が問題になる。\n",
    "\n",
    "Xavierの初期値を利用すると、活性化関数の出力が適度な広がりを持った分布になる。\n",
    "\n",
    "活性化関数にsigmoid関数やtanh関数を利用するとXavierの初期値でうまくいくが、ReLUを用いる場合には偏ってしまう。\n",
    "Heの初期値を利用するとReLUでも良い分布を得られるようになる。\n",
    "\n",
    "\n",
    "## 6.3 Batch Normalization\n",
    "\n",
    "適切な重みの初期値を設定すれば、各層のアクティベーションの分布が適度な広がりを持ち、学習がスムーズに行えることがわかった。\n",
    "\n",
    "では、各層で適度な広がりを持つように**強制的に**アクティベーションの分布を調整するとどうか？そのアイデアをベースとする手法がBatch Normalizationとなる。\n",
    "\n",
    "Batch Normの利点\n",
    "\n",
    "- 学習を速く進行させることが出来る（学習係数を大きくすることが出来る）\n",
    "- 初期値にそれほど依存しない（初期値に対してそれほど神経質にならなくて良い）\n",
    "- 過学習を抑制する（Dropoutなどの必要性を減らす）\n",
    "\n",
    "Batch NormはAffineレイヤ（X•Wするやつ）とアクティベーションレイヤの間に入れる。ミニバッチごとに正規化を行う。データの分布が平均0、分散1になるように正規化する。\n",
    "\n",
    "m個の入力データ集合 $B = \\{x_1, ..., x_m\\}$\n",
    "$$\n",
    "\\mu_B \\leftarrow \\frac{1}{m} \\sum_{i=1}^m x_i \\\\\n",
    "\\sigma_B^2 \\leftarrow \\frac{1}{m} \\sum_{i=1}^m (x_i - \\mu_B)^2 \\\\\n",
    "\\hat{x}_i \\leftarrow \\frac{x_i - \\mu_B}{\\sqrt{\\sigma_B^2 + \\epsilon}}\n",
    "$$\n",
    "\n",
    "$\\epsilon$ はゼロ除算を防ぐために入れている。さらに固有のスケールとシフトで変換する。\n",
    "\n",
    "$$\n",
    "y_i = \\gamma \\hat{x}_i + \\beta\n",
    "$$\n",
    "\n",
    "ここで $\\gamma$ と $\\beta$ はパラメータで、最初は $\\gamma = 1, \\beta = 0$ からスタートして、学習によって適した値に調整されていく。\n",
    "\n",
    "逆伝播の導出はやらない。\n",
    "\n",
    "\n",
    "## 6.4 正則化"
   ]
  },
  {
   "cell_type": "code",
   "execution_count": null,
   "metadata": {
    "collapsed": true
   },
   "outputs": [],
   "source": []
  }
 ],
 "metadata": {
  "kernelspec": {
   "display_name": "Python 3",
   "language": "python",
   "name": "python3"
  },
  "language_info": {
   "codemirror_mode": {
    "name": "ipython",
    "version": 3
   },
   "file_extension": ".py",
   "mimetype": "text/x-python",
   "name": "python",
   "nbconvert_exporter": "python",
   "pygments_lexer": "ipython3",
   "version": "3.6.2"
  }
 },
 "nbformat": 4,
 "nbformat_minor": 2
}
